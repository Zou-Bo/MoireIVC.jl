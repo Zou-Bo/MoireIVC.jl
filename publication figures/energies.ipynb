{
 "cells": [
  {
   "cell_type": "code",
   "execution_count": null,
   "id": "19f924e5",
   "metadata": {},
   "outputs": [],
   "source": [
    "using MKL\n",
    "using PhysicalUnits, LinearAlgebra\n",
    "using MoireIVC.LLHF\n",
    "using MoireIVC.LLHF: VP_solution\n",
    "using MoireIVC.LLHF_Plot\n",
    "using CairoMakie\n",
    "CairoMakie.activate!()"
   ]
  },
  {
   "cell_type": "code",
   "execution_count": null,
   "id": "64b73bf5",
   "metadata": {},
   "outputs": [],
   "source": [
    "N1 = 18; N2 = 18; LL = 0\n",
    "num_para = LLHF_init_with_lambda(1.0; N1 = N1, N2 = N2, LL = LL);\n",
    "sym = [LLHF.Rot3(0);];\n",
    "symT = [LLHF.Rot3(0); LLHF.PT(0,:T)];\n",
    "symP = [LLHF.Rot3(0); LLHF.PT(0,:P)];\n",
    "symPT = [LLHF.Rot3(0); LLHF.PT(0,:PT)];"
   ]
  },
  {
   "cell_type": "code",
   "execution_count": null,
   "id": "9c0b8bfa",
   "metadata": {},
   "outputs": [],
   "source": [
    "function find_crossing_lambda(sym, para = num_para)\n",
    "    LLHF_change_lambda!(para, 0);\n",
    "    EVP0 = LLHF_EnergyPerArea(VP_solution(para,2); para=para)\n",
    "    ρ = LLHF_solve(para; coherence = 0.0, \n",
    "        error_tolerance = 1E-10, max_iter_times = 100, \n",
    "        post_process_times = 100, post_procession = sym,\n",
    "        complusive_mixing=false, complusive_mixing_rate=0.5, \n",
    "        stepwise_output = false, final_output = false\n",
    "    );\n",
    "    EIVC0 = LLHF_EnergyPerArea(ρ; para=para)\n",
    "\n",
    "    LLHF_change_lambda!(para, 1);\n",
    "    EVP1 = LLHF_EnergyPerArea(VP_solution(para,2); para=para)\n",
    "    ρ = LLHF_solve(para; coherence = 0.0, \n",
    "        error_tolerance = 1E-10, max_iter_times = 100, \n",
    "        post_process_times = 100, post_procession = sym,\n",
    "        complusive_mixing=false, complusive_mixing_rate=0.5, \n",
    "        stepwise_output = false, final_output = false\n",
    "    );\n",
    "    EIVC1 = LLHF_EnergyPerArea(ρ; para=para)\n",
    "\n",
    "    crossing = (EVP0-EIVC0) / (EIVC1-EVP1 + EVP0-EIVC0)\n",
    "    @show crossing\n",
    "    return crossing\n",
    "end\n",
    "function sweep_lambda(sym, lambda_sorted_list, input_i, input_dm;\n",
    "    para = num_para, iter_times = 400, print=true)\n",
    "    # 1-T 2-P 3-PT 4-IVC\n",
    "    energies = similar(lambda_sorted_list, Float64)\n",
    "\n",
    "    # input starting lambda\n",
    "    LLHF_change_lambda!(para, lambda_sorted_list[input_i]);\n",
    "    println(\"i = $input_i, λ = $(lambda_sorted_list[input_i])\")\n",
    "    ρ1 = LLHF_solve(para, input_dm; coherence = 0.0, \n",
    "        error_tolerance = 1E-10, max_iter_times = iter_times, \n",
    "        post_process_times = iter_times, post_procession = sym,\n",
    "        complusive_mixing=false, complusive_mixing_rate=0.5, \n",
    "        stepwise_output = false, final_output = print\n",
    "    );\n",
    "    energies[input_i] = LLHF_EnergyPerArea(ρ1; para=para)\n",
    "    ρ2 = copy(ρ1)\n",
    "\n",
    "\n",
    "    for i in eachindex(lambda_sorted_list)[input_i:end]\n",
    "        i == input_i && continue\n",
    "        LLHF_change_lambda!(para, lambda_sorted_list[i]);\n",
    "        println(\"i = $i, λ = $(lambda_sorted_list[i])\");\n",
    "        ρ1 = LLHF_solve(para, ρ1; coherence = 0.0, \n",
    "            error_tolerance = 1E-10, max_iter_times = iter_times, \n",
    "            post_process_times = iter_times, post_procession = sym,\n",
    "            complusive_mixing=false, complusive_mixing_rate=0.5, \n",
    "            stepwise_output = false, final_output = print\n",
    "        );\n",
    "        energies[i] = LLHF_EnergyPerArea(ρ1; para=para)\n",
    "    end\n",
    "    for i in reverse(eachindex(lambda_sorted_list)[begin:input_i])\n",
    "        i == input_i && continue\n",
    "        LLHF_change_lambda!(para, lambda_sorted_list[i]);\n",
    "        println(\"i = $i, λ = $(lambda_sorted_list[i])\");\n",
    "        ρ2 = LLHF_solve(para, ρ2; coherence = 0.0, \n",
    "            error_tolerance = 1E-10, max_iter_times = iter_times, \n",
    "            post_process_times = iter_times, post_procession = sym,\n",
    "            complusive_mixing=false, complusive_mixing_rate=0.5, \n",
    "            stepwise_output = false, final_output = print\n",
    "        );\n",
    "        energies[i] = LLHF_EnergyPerArea(ρ2; para=para)\n",
    "    end\n",
    "    return energies\n",
    "end\n",
    "function sweep_lambda_fixρ(lambda_sorted_list, ρ; para=num_para)\n",
    "    energies = similar(lambda_sorted_list, Float64)\n",
    "    for i in eachindex(lambda_sorted_list)\n",
    "        LLHF_change_lambda!(para, lambda_sorted_list[i]);\n",
    "        energies[i] = LLHF_EnergyPerArea(ρ; para=para)\n",
    "    end\n",
    "    return energies\n",
    "end\n",
    "function solve(sym, times=300; para = num_para)\n",
    "    LLHF_solve(para; coherence = 0.0, \n",
    "        error_tolerance = 1E-10, max_iter_times = times, \n",
    "        post_process_times = times, post_procession = sym,\n",
    "        complusive_mixing=false, complusive_mixing_rate=0.5, \n",
    "        stepwise_output = false, final_output = true\n",
    "    );\n",
    "end\n",
    "function solve!(ρ, sym, times=300; para = num_para)\n",
    "    LLHF_solve(para, ρ; coherence = 0.0, \n",
    "        error_tolerance = 1E-10, max_iter_times = times, \n",
    "        post_process_times = times, post_procession = sym,\n",
    "        complusive_mixing=false, complusive_mixing_rate=0.5, \n",
    "        stepwise_output = false, final_output = true\n",
    "    );\n",
    "end\n",
    "@show aprx2W0 = round(0.2num_para.system.W0 / meV; digits=2);"
   ]
  },
  {
   "cell_type": "markdown",
   "id": "95fed93e",
   "metadata": {},
   "source": [
    "#### H0=0"
   ]
  },
  {
   "cell_type": "code",
   "execution_count": null,
   "id": "2edd400b",
   "metadata": {},
   "outputs": [],
   "source": [
    "lambda_plot0 = [0:0.05:0.4; 0.45:0.005:0.75; 0.8:0.1:1.2; 1.4:0.3:10.5]\n",
    "LLHF.H0_C3_T!(num_para, 0.0);\n",
    "crs = find_crossing_lambda(symPT)\n",
    "iP = searchsortedfirst(lambda_plot0, crs)-1\n",
    "LLHF_change_lambda!(num_para, lambda_plot0[iP]);\n",
    "ρPT = solve(symPT);\n",
    "ρP = solve(symP);\n",
    "LLHF_plot_Sz(ρP; para=num_para);\n",
    "\n",
    "iT = eachindex(lambda_plot0)[end]\n",
    "LLHF_change_lambda!(num_para, lambda_plot0[iT]);\n",
    "ρT = solve(symT);\n",
    "LLHF_plot_Sz(ρT; para=num_para);\n"
   ]
  },
  {
   "cell_type": "code",
   "execution_count": null,
   "id": "41f0b053",
   "metadata": {},
   "outputs": [],
   "source": [
    "@time begin\n",
    "    energies0 = Matrix{Float64}(undef, 4, length(lambda_plot0));\n",
    "    energies0[1,:] = sweep_lambda(symP, lambda_plot0, iP, copy(ρP); print = false);\n",
    "    energies0[2,:] = sweep_lambda(symT, lambda_plot0, iT, copy(ρT); print = false);\n",
    "    energies0[3,:] = sweep_lambda_fixρ(lambda_plot0, ρPT);\n",
    "    energies0[4,:] = sweep_lambda_fixρ(lambda_plot0, VP_solution(num_para,2));\n",
    "end\n",
    "nothing"
   ]
  },
  {
   "cell_type": "code",
   "execution_count": null,
   "id": "0d115d90",
   "metadata": {},
   "outputs": [],
   "source": [
    "@show xt_0 = lambda_plot0[findfirst(energies0[3,:] .- energies0[1,:] .> 1E-4)];\n",
    "@show xp_0 = lambda_plot0[findlast(energies0[4,:] .- energies0[1,:] .> 1E-4)];"
   ]
  },
  {
   "cell_type": "markdown",
   "id": "f7989bcd",
   "metadata": {},
   "source": [
    "#### H0 - T"
   ]
  },
  {
   "cell_type": "markdown",
   "id": "27db0d24",
   "metadata": {},
   "source": [
    "##### ho=0.1W0"
   ]
  },
  {
   "cell_type": "code",
   "execution_count": null,
   "id": "528fc350",
   "metadata": {},
   "outputs": [],
   "source": [
    "lambda_T = [0.57:0.005:0.70;]\n",
    "LLHF.H0_C3_T!(num_para, 0.1);\n",
    "crs = find_crossing_lambda(symT)\n",
    "iP = searchsortedfirst(lambda_T, crs)-1\n",
    "LLHF_change_lambda!(num_para, lambda_T[iP]);\n",
    "ρP = solve!(ρP, symP);\n",
    "ρP = solve!(ρP, sym);\n",
    "LLHF_plot_Sz(ρP; para=num_para);\n",
    "\n",
    "ρPT = solve(symPT);\n",
    "\n",
    "iT = eachindex(lambda_T)[end]\n",
    "LLHF_change_lambda!(num_para, lambda_T[iT]);\n",
    "ρT = solve(symT);"
   ]
  },
  {
   "cell_type": "code",
   "execution_count": null,
   "id": "baade6ac",
   "metadata": {},
   "outputs": [],
   "source": [
    "@time begin\n",
    "    energiesT = Matrix{Float64}(undef, 4, length(lambda_T));\n",
    "    energiesT[1,:] = sweep_lambda(sym , lambda_T, iP, copy(ρP); print = false);\n",
    "    energiesT[2,:] = sweep_lambda(symT, lambda_T, iT, copy(ρT); print = false);\n",
    "    imax = findmax(energiesT[1,:]-energiesT[2,:])[2] - 1\n",
    "    energiesT[1, begin:imax] .= NaN\n",
    "    energiesT[3,:] = sweep_lambda_fixρ(lambda_T, ρPT);\n",
    "    energiesT[4,:] = sweep_lambda_fixρ(lambda_T, VP_solution(num_para,2));\n",
    "end\n",
    "nothing"
   ]
  },
  {
   "cell_type": "code",
   "execution_count": null,
   "id": "b460ed6d",
   "metadata": {},
   "outputs": [],
   "source": [
    "@show xt_t1 = lambda_T[findfirst(energiesT[2,:] .> energiesT[1,:])];\n",
    "@show xp_t1 = lambda_T[findlast(energiesT[4,:] .- energiesT[1,:] .> 1E-4)];"
   ]
  },
  {
   "cell_type": "markdown",
   "id": "68e8f6fe",
   "metadata": {},
   "source": [
    "##### ho=0.2W0"
   ]
  },
  {
   "cell_type": "code",
   "execution_count": null,
   "id": "6d9f4767",
   "metadata": {},
   "outputs": [],
   "source": [
    "lambda_plot_T = [0.57:0.005:0.73;]"
   ]
  },
  {
   "cell_type": "code",
   "execution_count": null,
   "id": "53851fc4",
   "metadata": {},
   "outputs": [],
   "source": [
    "lambda_T = [0.57:0.005:0.73;]\n",
    "lambda_plot_T = copy(lambda_T)\n",
    "for x = 0.1:0.02:0.2\n",
    "    LLHF.H0_C3_T!(num_para, x);\n",
    "    crs = find_crossing_lambda(symT)\n",
    "    iP = searchsortedfirst(lambda_T, crs)-1\n",
    "    LLHF_change_lambda!(num_para, lambda_T[iP]);\n",
    "    ρP = solve!(ρP, sym, 200);\n",
    "end\n",
    "ρP = solve!(ρP, sym);\n",
    "LLHF_plot_Sz(ρP; para=num_para);\n",
    "\n",
    "ρPT = solve(symPT);\n",
    "\n",
    "iT = eachindex(lambda_T)[end]\n",
    "LLHF_change_lambda!(num_para, lambda_T[iT]);\n",
    "ρT = solve(symT);\n"
   ]
  },
  {
   "cell_type": "code",
   "execution_count": null,
   "id": "475cc205",
   "metadata": {},
   "outputs": [],
   "source": [
    "@time begin\n",
    "    energiesT = Matrix{Float64}(undef, 4, length(lambda_T));\n",
    "    energiesT[1,:] = sweep_lambda(sym , lambda_T, iP, copy(ρP); print = false);\n",
    "    energiesT[2,:] = sweep_lambda(symT, lambda_T, iT, copy(ρT); print = false);\n",
    "    imax = findmax(energiesT[1,:]-energiesT[2,:])[2] - 1\n",
    "    energiesT[1, begin:imax] .= NaN\n",
    "    energiesT[3,:] = sweep_lambda_fixρ(lambda_T, ρPT);\n",
    "    energiesT[4,:] = sweep_lambda_fixρ(lambda_T, VP_solution(num_para,2));\n",
    "end\n",
    "energiesT_plot = copy(energiesT);"
   ]
  },
  {
   "cell_type": "code",
   "execution_count": null,
   "id": "59284bc7",
   "metadata": {},
   "outputs": [],
   "source": [
    "@show xt_t2 = lambda_T[findfirst(energiesT[2,:] .> energiesT[1,:])];\n",
    "@show xp_t2 = lambda_T[findlast(energiesT[4,:] .- energiesT[1,:] .> 1E-4)];"
   ]
  },
  {
   "cell_type": "markdown",
   "id": "9b66bc40",
   "metadata": {},
   "source": [
    "##### ho = 0.25W0"
   ]
  },
  {
   "cell_type": "code",
   "execution_count": null,
   "id": "70b00f72",
   "metadata": {},
   "outputs": [],
   "source": [
    "lambda_T = [0.65:0.001:0.68;]\n",
    "for x = 0.2:0.01:0.25\n",
    "    LLHF.H0_C3_T!(num_para, x);\n",
    "    crs = find_crossing_lambda(symT)\n",
    "    iP = searchsortedfirst(lambda_T, crs)-1\n",
    "    LLHF_change_lambda!(num_para, lambda_T[iP]);\n",
    "    ρP = solve!(ρP, sym, 200);\n",
    "end\n",
    "ρP = solve!(ρP, sym);\n",
    "LLHF_plot_Sz(ρP; para=num_para);\n",
    "\n",
    "ρPT = solve(symPT);\n",
    "\n",
    "iT = eachindex(lambda_T)[end]\n",
    "LLHF_change_lambda!(num_para, lambda_T[iT]);\n",
    "ρT = solve(symT);\n"
   ]
  },
  {
   "cell_type": "code",
   "execution_count": null,
   "id": "753f148f",
   "metadata": {},
   "outputs": [],
   "source": [
    "@time begin\n",
    "    energiesT = Matrix{Float64}(undef, 4, length(lambda_T));\n",
    "    energiesT[1,:] = sweep_lambda(sym , lambda_T, iP, copy(ρP); print = false);\n",
    "    energiesT[2,:] = sweep_lambda(symT, lambda_T, iT, copy(ρT); print = false);\n",
    "    imax = findmax(energiesT[1,:]-energiesT[2,:])[2] - 1\n",
    "    energiesT[1, begin:imax] .= NaN\n",
    "    energiesT[3,:] = sweep_lambda_fixρ(lambda_T, ρPT);\n",
    "    energiesT[4,:] = sweep_lambda_fixρ(lambda_T, VP_solution(num_para,2));\n",
    "end\n",
    "nothing"
   ]
  },
  {
   "cell_type": "code",
   "execution_count": null,
   "id": "54cc9a92",
   "metadata": {},
   "outputs": [],
   "source": [
    "@show xt_t25 = lambda_T[findfirst(energiesT[2,:] .> energiesT[1,:])];\n",
    "@show xp_t25 = lambda_T[findlast(energiesT[4,:] .- energiesT[1,:] .> 1E-4)];"
   ]
  },
  {
   "cell_type": "markdown",
   "id": "d460f876",
   "metadata": {},
   "source": [
    "##### h0 = 0.275W0, 1W0"
   ]
  },
  {
   "cell_type": "code",
   "execution_count": null,
   "id": "ad5ba0c7",
   "metadata": {},
   "outputs": [],
   "source": [
    "LLHF.H0_C3_T!(num_para, 0.275);\n",
    "crst275 = find_crossing_lambda(symT);\n",
    "LLHF.H0_C3_T!(num_para, 1);\n",
    "crst1 = find_crossing_lambda(symT);"
   ]
  },
  {
   "cell_type": "markdown",
   "id": "80bbfaab",
   "metadata": {},
   "source": [
    "#### H0 - P side"
   ]
  },
  {
   "cell_type": "markdown",
   "id": "cbee1ff0",
   "metadata": {},
   "source": [
    "##### he = 0.1 W0"
   ]
  },
  {
   "cell_type": "code",
   "execution_count": null,
   "id": "285e0866",
   "metadata": {},
   "outputs": [],
   "source": [
    "LLHF.H0_P!(num_para, 0.1);\n",
    "lambda_P = [0.48:0.005:0.6;]\n",
    "ip=1\n",
    "LLHF_change_lambda!(num_para, lambda_P[iP]);\n",
    "ρP = solve!(ρP, symP);\n",
    "LLHF_plot_Sz(ρP; para=num_para);\n",
    "ρPT = solve(symPT);"
   ]
  },
  {
   "cell_type": "code",
   "execution_count": null,
   "id": "e676023b",
   "metadata": {},
   "outputs": [],
   "source": [
    "@time begin\n",
    "    energiesP = Matrix{Float64}(undef, 4, length(lambda_P));\n",
    "    energiesP[1,:] = sweep_lambda(symP, lambda_P, iP, copy(ρP), print = false);\n",
    "    energiesP[2,:] .= NaN\n",
    "    energiesP[3,:] = sweep_lambda_fixρ(lambda_P, ρPT);\n",
    "    energiesP[4,:] = sweep_lambda_fixρ(lambda_P, VP_solution(num_para,2));\n",
    "end\n",
    "nothing"
   ]
  },
  {
   "cell_type": "code",
   "execution_count": null,
   "id": "9139dbef",
   "metadata": {},
   "outputs": [],
   "source": [
    "@show xp_p1 =lambda_P[findlast(energiesP[4,:] .- energiesP[1,:] .> 1E-4)];"
   ]
  },
  {
   "cell_type": "markdown",
   "id": "0ccfa815",
   "metadata": {},
   "source": [
    "##### he = 0.2W0"
   ]
  },
  {
   "cell_type": "code",
   "execution_count": null,
   "id": "3a227447",
   "metadata": {},
   "outputs": [],
   "source": [
    "lambda_P = [0:0.05:0.35; 0.4:0.005:0.5; 0.52:0.02:0.6]\n",
    "lambda_plot_P = copy(lambda_P)\n",
    "LLHF.H0_P!(num_para, 0.2);\n",
    "crs = find_crossing_lambda(symPT)\n",
    "iP = searchsortedfirst(lambda_P, crs)+2\n",
    "LLHF_change_lambda!(num_para, lambda_P[iP]);\n",
    "ρP = solve!(ρP, symP);\n",
    "LLHF_plot_Sz(ρP; para=num_para);\n",
    "ρPT = solve(symPT);"
   ]
  },
  {
   "cell_type": "code",
   "execution_count": null,
   "id": "cd548d69",
   "metadata": {},
   "outputs": [],
   "source": [
    "@time begin\n",
    "    energiesP = Matrix{Float64}(undef, 4, length(lambda_P));\n",
    "    energiesP[1,:] = sweep_lambda(symP, lambda_P, iP, copy(ρP), print = false);\n",
    "    energiesP[2,:] .= NaN\n",
    "    energiesP[3,:] = sweep_lambda_fixρ(lambda_P, ρPT);\n",
    "    energiesP[4,:] = sweep_lambda_fixρ(lambda_P, VP_solution(num_para,2));\n",
    "end\n",
    "energiesP_plot = copy(energiesP);"
   ]
  },
  {
   "cell_type": "code",
   "execution_count": null,
   "id": "57e18b13",
   "metadata": {},
   "outputs": [],
   "source": [
    "@show xp_p2 = lambda_P[findlast(energiesP[4,:] .- energiesP[1,:] .> 1E-4)];"
   ]
  },
  {
   "cell_type": "markdown",
   "id": "4c4141c3",
   "metadata": {},
   "source": [
    "##### he = 0.3W0, 0.4W0, 0.5W0, 0.6W0"
   ]
  },
  {
   "cell_type": "code",
   "execution_count": null,
   "id": "e6e7bd18",
   "metadata": {},
   "outputs": [],
   "source": [
    "LLHF.H0_P!(num_para, 0.3);\n",
    "lambda_P = [0.25:0.01:0.45;]\n",
    "iP = 8\n",
    "LLHF_change_lambda!(num_para, lambda_P[iP]);\n",
    "ρP = solve!(ρP, symP);\n",
    "LLHF_plot_Sz(ρP; para=num_para);\n",
    "energiesP = Matrix{Float64}(undef, 2, length(lambda_P));\n",
    "energiesP[1,:] = sweep_lambda(symP, lambda_P, iP, copy(ρP), print = false);\n",
    "energiesP[2,:] = sweep_lambda_fixρ(lambda_P, VP_solution(num_para,2));\n",
    "@show xp_p3 = lambda_P[findlast(energiesP[2,:] .- energiesP[1,:] .> 1E-4)];\n"
   ]
  },
  {
   "cell_type": "code",
   "execution_count": null,
   "id": "3740076f",
   "metadata": {},
   "outputs": [],
   "source": [
    "LLHF.H0_P!(num_para, 0.4);\n",
    "lambda_P = [0.2:0.01:0.35;]\n",
    "iP = 5\n",
    "LLHF_change_lambda!(num_para, lambda_P[iP]);\n",
    "ρP = solve!(ρP, symP);\n",
    "LLHF_plot_Sz(ρP; para=num_para);\n",
    "energiesP = Matrix{Float64}(undef, 2, length(lambda_P));\n",
    "energiesP[1,:] = sweep_lambda(symP, lambda_P, iP, copy(ρP), print = false);\n",
    "energiesP[2,:] = sweep_lambda_fixρ(lambda_P, VP_solution(num_para,2));\n",
    "@show xp_p4 = lambda_P[findlast(energiesP[2,:] .- energiesP[1,:] .> 1E-4)];"
   ]
  },
  {
   "cell_type": "code",
   "execution_count": null,
   "id": "dedd40b3",
   "metadata": {},
   "outputs": [],
   "source": [
    "LLHF.H0_P!(num_para, 0.5);\n",
    "lambda_P = [0.1:0.01:0.25;]\n",
    "iP = 5\n",
    "LLHF_change_lambda!(num_para, lambda_P[iP]);\n",
    "ρP = solve!(ρP, symP);\n",
    "LLHF_plot_Sz(ρP; para=num_para);\n",
    "energiesP = Matrix{Float64}(undef, 2, length(lambda_P));\n",
    "energiesP[1,:] = sweep_lambda(symP, lambda_P, iP, copy(ρP), print = false);\n",
    "energiesP[2,:] = sweep_lambda_fixρ(lambda_P, VP_solution(num_para,2));\n",
    "@show xp_p5 = lambda_P[findlast(energiesP[2,:] .- energiesP[1,:] .> 1E-4)];"
   ]
  },
  {
   "cell_type": "code",
   "execution_count": null,
   "id": "68067c25",
   "metadata": {},
   "outputs": [],
   "source": [
    "LLHF.H0_P!(num_para, 0.6);\n",
    "lambda_P = [0.0:0.01:0.2;]\n",
    "iP = 7\n",
    "LLHF_change_lambda!(num_para, lambda_P[iP]);\n",
    "ρP = solve!(ρP, symP);\n",
    "LLHF_plot_Sz(ρP; para=num_para);\n",
    "energiesP = Matrix{Float64}(undef, 2, length(lambda_P));\n",
    "energiesP[1,:] = sweep_lambda(symP, lambda_P, iP, copy(ρP), print = false);\n",
    "energiesP[2,:] = sweep_lambda_fixρ(lambda_P, VP_solution(num_para,2));\n",
    "@show xp_p6 = lambda_P[findlast(energiesP[2,:] .- energiesP[1,:] .> 1E-4)];"
   ]
  },
  {
   "cell_type": "markdown",
   "id": "206e6903",
   "metadata": {},
   "source": [
    "#### Plot"
   ]
  },
  {
   "cell_type": "code",
   "execution_count": null,
   "id": "02a2dcd7",
   "metadata": {},
   "outputs": [],
   "source": [
    "eng_plot = Figure(size=(1400,700));\n",
    "energylines = eng_plot[1,1] = GridLayout();\n",
    "phasediagaram = eng_plot[1,2] = GridLayout();\n",
    "colgap!(eng_plot.layout, 10);"
   ]
  },
  {
   "cell_type": "code",
   "execution_count": null,
   "id": "26da5864",
   "metadata": {},
   "outputs": [],
   "source": [
    "ax0 = Axis(energylines[1,1],\n",
    "    subtitle = rich(\n",
    "        \"H\", subscript(\"0\"), \" = 0\",\n",
    "    ),\n",
    "    yticks = -1.0:0.5:0.0,\n",
    "    yminorticks = [-0.75; -0.25],\n",
    "    yminorgridvisible = true,\n",
    "    yminorgridcolor = (:black, 0.12),\n",
    ")\n",
    "i2 = searchsortedfirst(lambda_plot0, 1.5)\n",
    "lines!(lambda_plot0[1:i2], energies0[1,1:i2] ./ (meV/nm^2) )\n",
    "lines!(lambda_plot0[1:i2], energies0[2,1:i2] ./ (meV/nm^2) )\n",
    "lines!(lambda_plot0[1:i2], energies0[3,1:i2] ./ (meV/nm^2) )\n",
    "lines!(lambda_plot0[1:i2], energies0[4,1:i2] ./ (meV/nm^2) )\n",
    "ylims!(-1.05, 0.05)\n",
    "\n",
    "ax0_T = Axis(energylines[1,1];\n",
    "    width = Relative(0.4), height = Relative(0.3),\n",
    "    halign = 0.25, valign = 0.2,\n",
    "    limits = ((0.7,10.3),(-3.2,-0.5)),\n",
    "    xticks = [1;5;10], xminorticks = [2:4;6:9], \n",
    "    xminorgridvisible = true, \n",
    "    xminorgridcolor = (:black, 0.12)\n",
    ")\n",
    "lines!(lambda_plot0, energies0[1,:] ./ (meV/nm^2) )\n",
    "lines!(lambda_plot0, energies0[2,:] ./ (meV/nm^2) )\n",
    "lines!(lambda_plot0, energies0[3,:] ./ (meV/nm^2) )\n",
    "lines!(lambda_plot0, energies0[4,:] ./ (meV/nm^2) )\n",
    "translate!(ax0_T.blockscene, 0, 0, 150)\n",
    "\n",
    "\n",
    "ax0_P = Axis(energylines[2,1];\n",
    "    subtitle = rich(\n",
    "        \"H\", subscript(\"0\"), \" = 0\",\n",
    "    ),\n",
    "    limits = ((0.515,0.68), (-0.39, -0.325)),\n",
    ")\n",
    "lines!(lambda_plot0, energies0[1,:] ./ (meV/nm^2), label=\"IVC-C1\")\n",
    "lines!(lambda_plot0, energies0[2,:] ./ (meV/nm^2), label=\"IVC-C0\")\n",
    "lines!(lambda_plot0, energies0[3,:] ./ (meV/nm^2), label=\"IVC-GL\")\n",
    "lines!(lambda_plot0, energies0[4,:] ./ (meV/nm^2), label=\"VP\")\n",
    "axislegend(position = :lb, )\n",
    "\n",
    "\n",
    "ax1 = Axis(energylines[1,2],\n",
    "    subtitle = rich(\n",
    "        \"h\", subscript(\"o\",fontsize = 12), \" = 0.2W\", subscript(\"0\"), \" = 16.15meV\"\n",
    "    ),\n",
    "    yticks = -0.39:0.02:-0.35,\n",
    "    yminorticks = [-0.38; -0.36],\n",
    "    yminorgridvisible = true,\n",
    "    yminorgridcolor = (:black, 0.12),\n",
    ")\n",
    "i2 = searchsortedfirst(lambda_plot_T,2)\n",
    "lines!(lambda_plot_T, energiesT_plot[1,:] ./ (meV/nm^2), label=\"IVC-C1\")\n",
    "lines!(lambda_plot_T, energiesT_plot[2,:] ./ (meV/nm^2), label=\"IVC-C0\")\n",
    "lines!(lambda_plot_T, energiesT_plot[3,:] ./ (meV/nm^2), label=\"IVC-GL\")\n",
    "lines!(lambda_plot_T, energiesT_plot[4,:] ./ (meV/nm^2), label=\"VP\")\n",
    "xlims!(0.595, 0.682)\n",
    "ylims!(-0.391, -0.348)\n",
    "\n",
    "ax1_P = Axis(energylines[1,2];\n",
    "    width = Relative(0.4), height = Relative(0.3),\n",
    "    halign = 0.35, valign = 0.15,\n",
    "    limits = ((0.628,0.642), (-0.371, -0.365)),\n",
    "    xticks = 0.63:0.01:0.64,\n",
    "    #yticks = -0.38:0.02:-0.33,\n",
    "    xminorticks = [0.635], xminorgridcolor = (:black, 0.12),\n",
    "    xminorgridvisible = true,\n",
    ")\n",
    "lines!(lambda_plot_T, energiesT_plot[1,:] ./ (meV/nm^2) )\n",
    "lines!(lambda_plot_T, energiesT_plot[2,:] ./ (meV/nm^2) )\n",
    "lines!(lambda_plot_T, energiesT_plot[3,:] ./ (meV/nm^2) )\n",
    "lines!(lambda_plot_T, energiesT_plot[4,:] ./ (meV/nm^2) )\n",
    "translate!(ax1_P.blockscene, 0, 0, 150)\n",
    "\n",
    "\n",
    "ax2 = Axis(energylines[2,2],\n",
    "    subtitle = rich(\n",
    "        \"h\", subscript(\"e\",fontsize = 12), \" = 0.2W\", subscript(\"0\"), \" = 16.15meV\"\n",
    "    ),\n",
    "    yticks = -0.4:0.1:-0.2,\n",
    "    yminorticks = [-0.25; -0.35],\n",
    "    yminorgridvisible = true,\n",
    "    yminorgridcolor = (:black, 0.12),\n",
    ")\n",
    "i2 = searchsortedfirst(lambda_plot_P,2)\n",
    "lines!(lambda_plot_P, energiesP_plot[1,:] ./ (meV/nm^2), label=\"IVC-C1\")\n",
    "lines!(lambda_plot_P, energiesP_plot[2,:] ./ (meV/nm^2), label=\"IVC-C0\")\n",
    "lines!(lambda_plot_P, energiesP_plot[3,:] ./ (meV/nm^2), label=\"IVC-GL\")\n",
    "lines!(lambda_plot_P, energiesP_plot[4,:] ./ (meV/nm^2), label=\"VP\")\n",
    "xlims!(0.03, 0.55)\n",
    "ylims!(-0.41, -0.17)\n",
    "\n",
    "\n",
    "Label(energylines[3,1:2], fontsize = 19, text=\"λ\")\n",
    "Label(energylines[1:2,0], fontsize = 17, text=\"E/A (meV/nm²)\", rotation = pi/2)\n",
    "Label(energylines[1,1,TopLeft()], text = \"(a)\", halign=:left)\n",
    "Label(energylines[2,1,TopLeft()], text = \"(b)\", halign=:left)\n",
    "Label(energylines[1,2,TopLeft()], text = \"(c)\", halign=:left)\n",
    "Label(energylines[2,2,TopLeft()], text = \"(d)\", halign=:left)\n",
    "\n",
    "colgap!(energylines, 10) \n",
    "\n",
    "eng_plot"
   ]
  },
  {
   "cell_type": "code",
   "execution_count": null,
   "id": "5e948fc2",
   "metadata": {},
   "outputs": [],
   "source": [
    "ax_ph = Axis(phasediagaram[1,1];\n",
    "    limits = ((-0.0, 1.0), (-0.525, 0.525)),\n",
    "    width = 600, xticks = 0:0.25:1, \n",
    "    yticks = (-0.4:0.2:0.4, [\"0.4\"; \"0.2\"; \"0.0\"; \"0.2\"; \"0.4\"]),\n",
    "    xgridvisible = false, ygridvisible = false,\n",
    ")\n",
    "\n",
    "lines!([xp_p6; xp_p4; xp_p2; xp_p1; xp_0; xp_t1; xp_t2; crst275], \n",
    "       [ -0.6;  -0.4;  -0.2;  -0.1;  0.0;   0.1;   0.2;   0.275];\n",
    "    color = :black, linewidth = 2, linestyle = :dash\n",
    ")\n",
    "lines!([xt_0; 2.0;], [ 0.0;  0.0;];\n",
    "    color = :black, linewidth = 2, linestyle = :dash\n",
    ")\n",
    "lines!([0.0; xt_0; xt_t1; xt_t2; crst275; crst1], \n",
    "       [0.0;  0.0;   0.1;   0.2;   0.275;   1.0];\n",
    "    color = Makie.wong_colors()[4], linewidth = 2\n",
    ")\n",
    "poly!(Point2f[(xp_p6, -0.6), (xp_p4, -0.4), (xp_p2, -0.2), (xp_p1, -0.1), (xp_0, 0.0), \n",
    "    (xp_t1, 0.1), (xp_t2, 0.2), (crst275, 0.275), (crst1, 1.0), (1.5, 1.0), (1.5, -1.0)];\n",
    "    color = (:grey, 0.2), strokewidth = 0\n",
    ")\n",
    "text!(0.72,  -0.3, text=\"P (C=1)\", fontsize = 20, )\n",
    "text!(0.15, -0.25, text=\"P (C=1)\", fontsize = 20, )\n",
    "text!(0.28,  0.25, text=\"T (C=0)\", fontsize = 20, )\n",
    "text!(0.2, -0.005, text=\"T+P (gapless)\", fontsize = 20, )\n",
    "text!(0.53,-0.005, text=\"P (C=1)\", fontsize = 20, )\n",
    "text!(0.77,-0.005, text=\"P (C=1)\", fontsize = 20, )\n",
    "text!(0.585, 0.07, text=\"(C=1)\", fontsize = 20, )\n",
    "text!(0.81,  0.22, text=\"(C=1)\", fontsize = 20, )\n",
    "\n",
    "\n",
    "Label(phasediagaram[2,1], text=\"λ\", tellwidth = false, fontsize = 19)\n",
    "Label(phasediagaram[1,1, Left()]; valign = 0.78, rotation = pi/2,\n",
    "    text = rich(\"h\", subscript(\"o\",fontsize = 15), \"( W\", subscript(\"0\"), \")\"),\n",
    "    padding = (0,30,0,0), fontsize = 17,\n",
    ")\n",
    "Label(phasediagaram[1,1, Left()]; valign = 0.22, rotation = pi/2,\n",
    "    text = rich(\"h\", subscript(\"e\",fontsize = 15), \"( W\", subscript(\"0\"), \")\"),\n",
    "    padding = (0,30,0,0), fontsize = 17,\n",
    ")\n",
    "\n",
    "Label(phasediagaram[1,1,TopLeft()], text = \"(e)\", halign=:left)\n",
    "\n",
    "eng_plot"
   ]
  },
  {
   "cell_type": "code",
   "execution_count": null,
   "id": "ac011625",
   "metadata": {},
   "outputs": [],
   "source": [
    "save(\"phase_diagram.pdf\", eng_plot, pt_per_unit = 1)"
   ]
  }
 ],
 "metadata": {
  "kernelspec": {
   "display_name": "Julia 1.11.5",
   "language": "julia",
   "name": "julia-1.11"
  },
  "language_info": {
   "file_extension": ".jl",
   "mimetype": "application/julia",
   "name": "julia",
   "version": "1.11.5"
  }
 },
 "nbformat": 4,
 "nbformat_minor": 5
}
