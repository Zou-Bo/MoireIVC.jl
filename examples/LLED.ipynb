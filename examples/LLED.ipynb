{
 "cells": [
  {
   "cell_type": "code",
   "execution_count": null,
   "id": "7f85ec9f",
   "metadata": {},
   "outputs": [],
   "source": [
    "using MKL, LinearAlgebra\n",
    "using PhysicalUnits\n",
    "using MoireIVC\n",
    "using MoireIVC.LLHF, MoireIVC.LLED\n",
    "using CairoMakie\n",
    "CairoMakie.activate!()"
   ]
  },
  {
   "cell_type": "code",
   "execution_count": null,
   "id": "1bcb55bc",
   "metadata": {},
   "outputs": [],
   "source": [
    "system = LLHF.define_system();\n",
    "k_index = [\n",
    "     0;  0;;\n",
    "    +1;  0;;\n",
    "     0; +1;;\n",
    "    -1; +1;;\n",
    "    -1;  0;;\n",
    "     0; -1;;\n",
    "    +1; -1;;\n",
    "]\n",
    "E_1 = 5.37meV\n",
    "# Hmf[k,s,s',kD] c†_{k,s,kD} c_{k,s',kD};\n",
    "function DiracCone(E_1=E_1, k_index=k_index)\n",
    "    k_num = size(k_index,2)\n",
    "    Hmf = zeros(ComplexF64, k_num, 2, 2, 2)\n",
    "    if k_num == 1\n",
    "        return Hmf\n",
    "    elseif k_num == 7\n",
    "\n",
    "        h1diag = 0.0\n",
    "        h1offd = E_1\n",
    "        for i in 1:6\n",
    "            phase = ((i-1)/3-1/6)*pi\n",
    "            Hmf[1+i,:,:,1] .=[h1diag;  h1offd*cis(phase);;  h1offd*cis(-phase); h1diag] \n",
    "            Hmf[1+i,:,:,2] .=[h1diag; -h1offd*cis(phase);; -h1offd*cis(-phase); h1diag] \n",
    "        end\n",
    "\n",
    "        return Hmf\n",
    "    else\n",
    "        error(\"k_num should be 0 or 7\")\n",
    "    end\n",
    "end\n",
    "Hmf=DiracCone();"
   ]
  },
  {
   "cell_type": "markdown",
   "id": "ff3a5866",
   "metadata": {},
   "source": [
    "### 1. each Dirac point accompanied with 6 k-points"
   ]
  },
  {
   "cell_type": "code",
   "execution_count": null,
   "id": "38b1e711",
   "metadata": {},
   "outputs": [],
   "source": [
    "para1 = LLED_init(k_index, Hmf, system, 30, 1);\n",
    "blocks1, block_k1_1, block_k2_1, bn0_1 = \n",
    "LLED_block_bysmallmomentum(LLED_mbslist_twoDiracCone(para1, 7, 7);\n",
    "    k1range=(-2,2), k2range=(-2,2)\n",
    ");\n",
    "blocks1[bn0_1];\n",
    "int_list1= LLED_interactionlist(para1);"
   ]
  },
  {
   "cell_type": "markdown",
   "id": "6ca677f1",
   "metadata": {},
   "source": [
    "##### eigenenergies of blocks with momentum close to zero"
   ]
  },
  {
   "cell_type": "code",
   "execution_count": null,
   "id": "e3c24fed",
   "metadata": {},
   "outputs": [],
   "source": [
    "N_eigen = 8\n",
    "eigenenergy = Matrix{Float64}(undef, N_eigen, length(blocks1));\n",
    "for bn in eachindex(blocks1)\n",
    "    println(bn, \"\\t\", length(blocks1[bn]))\n",
    "    @time H = LLED_Block_Hamiltonian(blocks1[bn], int_list1, para1)\n",
    "    @time vals, vecs = LLED_solve(H, N_eigen)\n",
    "    if length(vals) >= N_eigen\n",
    "        eigenenergy[:,bn] = real.(vals[1:N_eigen])\n",
    "    else\n",
    "        eigenenergy[1:length(vals),bn] = real.(vals)\n",
    "        eigenenergy[1+length(vals):N_eigen,bn] = NaN\n",
    "    end\n",
    "end"
   ]
  },
  {
   "cell_type": "code",
   "execution_count": null,
   "id": "c4bfd0d6",
   "metadata": {},
   "outputs": [],
   "source": [
    "# plot eigenenergies of blocks\n",
    "eigEs = Figure(size = (800,600));\n",
    "ax = Axis(eigEs[1,1],\n",
    "    xlabel = \"k1+5k2\",\n",
    ")\n",
    "for bn in eachindex(blocks1)\n",
    "    k1 = block_k1_1[bn]; k2 = block_k2_1[bn]\n",
    "    xticknumber = k1 + 5k2\n",
    "    energy_shift = E_1 * sqrt(k1^2 + k2^2 + k1*k2)\n",
    "    for j in 1:N_eigen\n",
    "        if !isnan(eigenenergy[j, bn])\n",
    "            scatter!(ax, xticknumber, eigenenergy[j, bn];\n",
    "                color=:black, marker=:hline\n",
    "            )\n",
    "            if xticknumber != 0\n",
    "                scatter!(ax,xticknumber,eigenenergy[j,bn]-energy_shift;\n",
    "                    color=:blue, marker=:hline\n",
    "                )\n",
    "            end\n",
    "        end\n",
    "    end\n",
    "end\n",
    "eigEs"
   ]
  },
  {
   "cell_type": "code",
   "execution_count": null,
   "id": "715112aa",
   "metadata": {},
   "outputs": [],
   "source": [
    "# ground state energy (color) vs. block momentum\n",
    "lowest_E = Figure(size = (800,600));\n",
    "ax_le = Axis(lowest_E[1,1])\n",
    "Emin = Base.vec(eigenenergy[1,:])\n",
    "block_kx = block_k1_1 .* system.G1[1] + block_k2_1 .* system.G2[1]\n",
    "block_ky = block_k1_1 .* system.G1[2] + block_k2_1 .* system.G2[2]\n",
    "sc = scatter!(ax_le, block_kx, block_ky;\n",
    "    color = Emin, markersize = 20\n",
    ")\n",
    "Colorbar(lowest_E[1,2], sc)\n",
    "lowest_E"
   ]
  },
  {
   "cell_type": "markdown",
   "id": "d549735c",
   "metadata": {},
   "source": [
    "##### calculate and analysis the k=0 eigenwavefunctions"
   ]
  },
  {
   "cell_type": "code",
   "execution_count": null,
   "id": "50a2ea90",
   "metadata": {},
   "outputs": [],
   "source": [
    "@time H_k0 = LLED_Block_Hamiltonian(blocks1[bn0_1], int_list1, para1)\n",
    "ishermitian(H_k0)\n",
    "@time vals_k0, vecs_k0 = LLED_solve(H_k0, 10);\n",
    "@show vals_k0\n",
    "dot(vecs_k0[1], vecs_k0[2])"
   ]
  },
  {
   "cell_type": "code",
   "execution_count": null,
   "id": "00453571",
   "metadata": {},
   "outputs": [],
   "source": [
    "# one-body reduced density matrix\n",
    "vec0 = vecs_k0[3]\n",
    "onebodyRDM = LLED.one_body_reduced_density_matrix(vec0,blocks1[bn0_1])\n",
    "@show tr(onebodyRDM)/14\n",
    "@show maximum(abs.(onebodyRDM))\n",
    "heatmap(abs.(onebodyRDM), colorrange = (0,1))"
   ]
  },
  {
   "cell_type": "code",
   "execution_count": null,
   "id": "e25f39af",
   "metadata": {},
   "outputs": [],
   "source": [
    "# reduced density matices and entanglement entropies\n",
    "vec0 = vecs_k0[1]\n",
    "\n",
    "# 1. Dirac point 1\n",
    "using Combinatorics\n",
    "iA1 = [0;7];\n",
    "nA1 = (i_set -> sum(1 .<< i_set; init = 0)).(collect(powerset(iA1)));\n",
    "RDM_1 = LLED.reduced_density_matrix(vec0, blocks1[bn0_1], nA1, iA1);\n",
    "@show entropy1 = LLED.entanglement_entropy(RDM_1)\n",
    "# 2. Dirac point 2\n",
    "iA2 = [14;21];\n",
    "nA2 = (i_set -> sum(1 .<< i_set; init = 0)).(collect(powerset(iA2)));\n",
    "RDM_2 = LLED.reduced_density_matrix(vec0, blocks1[bn0_1], nA2, iA2);\n",
    "@show entropy2 = LLED.entanglement_entropy(RDM_2)\n",
    "# 3. two Dirac points\n",
    "iA3 = [0;7;14;21];\n",
    "nA3 = (i_set -> sum(1 .<< i_set; init = 0)).(collect(powerset(iA3)));\n",
    "RDM_3 = LLED.reduced_density_matrix(vec0, blocks1[bn0_1], nA3, iA3);\n",
    "@show entropy3 = LLED.entanglement_entropy(RDM_3)\n",
    "# 4. all k-points near Dirac point 1\n",
    "iA4 = collect(0:13);\n",
    "nA4 = getfield.(LLED.mbslist_oneDiracCone(para1, 7), :n);\n",
    "RDM_4 = LLED.reduced_density_matrix(vec0, blocks1[bn0_1], nA4, iA4);\n",
    "@show entropy4 = LLED.entanglement_entropy(RDM_4)"
   ]
  },
  {
   "cell_type": "markdown",
   "id": "548ce738",
   "metadata": {},
   "source": [
    "### 2. only the two Dirac points"
   ]
  },
  {
   "cell_type": "code",
   "execution_count": null,
   "id": "4a6e36d8",
   "metadata": {},
   "outputs": [],
   "source": [
    "para2 = LLED_init(k_index[:,[1]], Hmf[[1],:,:,:], system, 30, 1);\n",
    "blocks2 = \n",
    "LLED_block_bysmallmomentum(LLED_mbslist_twoDiracCone(para2, 1, 1);\n",
    "    momentum_restriction = false\n",
    ")[1]\n",
    "int_list2 = LLED_interactionlist(para2)\n",
    "@show H2_k0 = LLED_Block_Hamiltonian(blocks2[1], int_list2, para2)\n",
    "@show vals2_k0, vecs2_k0 = eigen(Matrix(H2_k0))"
   ]
  },
  {
   "cell_type": "code",
   "execution_count": null,
   "id": "1f07b7d1",
   "metadata": {},
   "outputs": [],
   "source": [
    "vec0 = vecs2_k0[:,3];\n",
    "iA = [0;1]; nA = [1;2];\n",
    "RDM_A = LLED.reduced_density_matrix(vec0, blocks2[1], nA, iA);\n",
    "entropy = LLED.entanglement_entropy(RDM_A)"
   ]
  }
 ],
 "metadata": {
  "kernelspec": {
   "display_name": "Julia 1.11.5",
   "language": "julia",
   "name": "julia-1.11"
  },
  "language_info": {
   "file_extension": ".jl",
   "mimetype": "application/julia",
   "name": "julia",
   "version": "1.11.5"
  }
 },
 "nbformat": 4,
 "nbformat_minor": 5
}
