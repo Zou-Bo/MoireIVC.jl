{
 "cells": [
  {
   "cell_type": "code",
   "execution_count": null,
   "id": "a3334f68",
   "metadata": {},
   "outputs": [],
   "source": [
    "using MKL\n",
    "using PhysicalUnits, LinearAlgebra\n",
    "using CairoMakie\n",
    "CairoMakie.activate!()\n",
    "using MoireIVC.LLHF\n",
    "using MoireIVC.LLHF_Plot"
   ]
  },
  {
   "cell_type": "code",
   "execution_count": null,
   "id": "7a937e6b",
   "metadata": {},
   "outputs": [],
   "source": [
    "N1 = 18; N2 = 18\n",
    "num_para = LLHF_init_with_lambda(1.0; N1 = N1, N2 = N2);\n",
    "LLHF_change_lambda!(num_para, 0.0);\n",
    "num_para.H0 .= 0.05 * [num_para.system.W0 * sqrt(27/16) *\n",
    "    (sin(-2π*k2/N2)+sin(-2π*k1/N1)+sin(2π*(k1/N1+k2/N2)))*(1.5-τn)*(τn′==τn) \n",
    "        for k1 in 0:N1-1, k2 in 0:N2-1, τn′ in 1:2, τn in 1:2\n",
    "];"
   ]
  },
  {
   "cell_type": "code",
   "execution_count": null,
   "id": "f1f58d0b",
   "metadata": {},
   "outputs": [],
   "source": [
    "symmetry = [LLHF.Rot3(0); LLHF.PT(0,:T)]\n",
    "ρ = LLHF_solve(num_para; coherence = 0.0, \n",
    "    error_tolerance = 1E-10, max_iter_times = 100, \n",
    "    post_process_times = 100, post_procession = symmetry,\n",
    "    complusive_mixing=false, complusive_mixing_rate=0.5, \n",
    "    stepwise_output = true, final_output = true\n",
    ");"
   ]
  },
  {
   "cell_type": "code",
   "execution_count": null,
   "id": "eecab32f",
   "metadata": {},
   "outputs": [],
   "source": [
    "LLHF_plot_band_3D(ρ; para=num_para)"
   ]
  },
  {
   "cell_type": "code",
   "execution_count": null,
   "id": "d51f1ac0",
   "metadata": {},
   "outputs": [],
   "source": [
    "LLHF_plot_band(ρ; para=num_para)"
   ]
  },
  {
   "cell_type": "code",
   "execution_count": null,
   "id": "54e7febd",
   "metadata": {},
   "outputs": [],
   "source": [
    "LLHF_plot_phase(ρ; para=num_para)"
   ]
  },
  {
   "cell_type": "code",
   "execution_count": null,
   "id": "8faaf31b",
   "metadata": {},
   "outputs": [],
   "source": [
    "LLHF_plot_Sz(ρ; para=num_para)"
   ]
  },
  {
   "cell_type": "code",
   "execution_count": null,
   "id": "ce9c3c84",
   "metadata": {},
   "outputs": [],
   "source": [
    "LLHF_plot_Berrycurvature(ρ; para=num_para)"
   ]
  },
  {
   "cell_type": "code",
   "execution_count": null,
   "id": "b9bf4bac",
   "metadata": {},
   "outputs": [],
   "source": [
    "LLHF_plot_realspace(ρ; para=num_para,\n",
    "    N = 18, xlimits = (-1.2, 1.2), ylimits = (-1.2, 1.2), \n",
    "    arrowscale = 1, arrowsize = 4\n",
    ")"
   ]
  }
 ],
 "metadata": {
  "kernelspec": {
   "display_name": "Julia 1.11.5",
   "language": "julia",
   "name": "julia-1.11"
  },
  "language_info": {
   "file_extension": ".jl",
   "mimetype": "application/julia",
   "name": "julia",
   "version": "1.11.5"
  }
 },
 "nbformat": 4,
 "nbformat_minor": 5
}
