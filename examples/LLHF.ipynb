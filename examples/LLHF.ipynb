{
 "cells": [
  {
   "cell_type": "code",
   "execution_count": null,
   "id": "a3334f68",
   "metadata": {},
   "outputs": [],
   "source": [
    "using MKL\n",
    "using PhysicalUnits, LinearAlgebra\n",
    "using MoireIVC.LLHF\n",
    "using MoireIVC.LLHF_Plot\n",
    "using MoireIVC.LLTDHF\n",
    "using CairoMakie\n",
    "CairoMakie.activate!()"
   ]
  },
  {
   "cell_type": "code",
   "execution_count": null,
   "id": "7a937e6b",
   "metadata": {},
   "outputs": [],
   "source": [
    "N1 = 18; N2 = 18\n",
    "num_para = LLHF_init_with_lambda(1.0; N1 = N1, N2 = N2, LL = 0);\n",
    "LLHF_change_lambda!(num_para, 0.0);\n",
    "LLHF.H0_C3_T!(num_para, 0.1);\n",
    "LLHF_plot_band_3D(LLHF.VP_solution(num_para,1); para=num_para)"
   ]
  },
  {
   "cell_type": "code",
   "execution_count": null,
   "id": "f1f58d0b",
   "metadata": {},
   "outputs": [],
   "source": [
    "symmetry = [LLHF.Rot3(0); LLHF.PT(0,:T)]\n",
    "@time ρ = LLHF_solve(num_para; coherence = 0.0, \n",
    "    method = :hf_SC_mixing!, mixing_rate = :dynamic,\n",
    "    error_tolerance = 1E-10, iteration_steps = 100, \n",
    "    procession_steps = 100, step_processions = symmetry,\n",
    "    stepwise_output = true, process_output = true\n",
    ");"
   ]
  },
  {
   "cell_type": "code",
   "execution_count": null,
   "id": "eecab32f",
   "metadata": {},
   "outputs": [],
   "source": [
    "LLHF_plot_band_3D(ρ; para=num_para)"
   ]
  },
  {
   "cell_type": "code",
   "execution_count": null,
   "id": "d51f1ac0",
   "metadata": {},
   "outputs": [],
   "source": [
    "LLHF_plot_band(ρ; para=num_para)"
   ]
  },
  {
   "cell_type": "code",
   "execution_count": null,
   "id": "54e7febd",
   "metadata": {},
   "outputs": [],
   "source": [
    "LLHF_plot_phase(ρ; para=num_para)"
   ]
  },
  {
   "cell_type": "code",
   "execution_count": null,
   "id": "8faaf31b",
   "metadata": {},
   "outputs": [],
   "source": [
    "LLHF_plot_Sz(ρ; para=num_para)"
   ]
  },
  {
   "cell_type": "code",
   "execution_count": null,
   "id": "ce9c3c84",
   "metadata": {},
   "outputs": [],
   "source": [
    "LLHF_plot_Berrycurvature(ρ; para=num_para)"
   ]
  },
  {
   "cell_type": "code",
   "execution_count": null,
   "id": "b9bf4bac",
   "metadata": {},
   "outputs": [],
   "source": [
    "# arrowcolor can be :Sz or :n\n",
    "LLHF_plot_realspace(ρ; para=num_para, arrowcolor = :n,\n",
    "    N = 18, xlimits = (-1.2, 1.2), ylimits = (-1.2, 1.2), \n",
    "    arrowscale = 1, arrowsize = 4\n",
    ")"
   ]
  },
  {
   "cell_type": "code",
   "execution_count": null,
   "id": "2dea868f",
   "metadata": {},
   "outputs": [],
   "source": [
    "GS = LLTDHF.TDHF_groundstateanalysis(ρ, num_para);\n",
    "q1range = 0:5\n",
    "omegas = zeros(ComplexF64, 4, length(q1range));\n",
    "for i in eachindex(q1range)\n",
    "    println(i)\n",
    "    q1 = q1range[i]; q2=0\n",
    "    @time Vspin = TDHF_V_matrix_spin(q1, q2, num_para);\n",
    "    M = TDHF_ZEXV(q1, q2, GS; Vspin = Vspin);\n",
    "    vals = TDHF_solve(M)[1:8]\n",
    "    perm = sortperm(vals; by = real)\n",
    "    omegas[:,i] = vals[perm[5:8]]\n",
    "end"
   ]
  },
  {
   "cell_type": "code",
   "execution_count": null,
   "id": "e691a560",
   "metadata": {},
   "outputs": [],
   "source": [
    "magnon_spectrum = Figure()\n",
    "ax = Axis(magnon_spectrum[1,1];\n",
    "    xlabel = \"q1\", ylabel = \"ω(W0)\"\n",
    ")\n",
    "for i = 1:4\n",
    "    scatterlines!(ax, q1range, real.(omegas[i,:])./num_para.system.W0)\n",
    "end\n",
    "magnon_spectrum"
   ]
  }
 ],
 "metadata": {
  "kernelspec": {
   "display_name": "Julia 1.11.6",
   "language": "julia",
   "name": "julia-1.11"
  },
  "language_info": {
   "file_extension": ".jl",
   "mimetype": "application/julia",
   "name": "julia",
   "version": "1.11.6"
  }
 },
 "nbformat": 4,
 "nbformat_minor": 5
}
