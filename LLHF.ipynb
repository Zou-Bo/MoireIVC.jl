{
 "cells": [
  {
   "cell_type": "code",
   "execution_count": null,
   "id": "a3334f68",
   "metadata": {},
   "outputs": [
    {
     "name": "stderr",
     "output_type": "stream",
     "text": [
      "\u001b[32m\u001b[1m  Activating\u001b[22m\u001b[39m project at `c:\\Users\\admin-bz4447\\Documents\\julia\\MoireIVC`\n"
     ]
    }
   ],
   "source": [
    "using MKL\n",
    "using PhysicalUnits, LinearAlgebra\n",
    "using CairoMakie\n",
    "using MoireIVC.LL_HF"
   ]
  },
  {
   "cell_type": "code",
   "execution_count": 11,
   "id": "7a937e6b",
   "metadata": {},
   "outputs": [
    {
     "ename": "MethodError",
     "evalue": "MethodError: no method matching MoireIVC.LL_HF.NumericalParameters(::Pair{Symbol, Int64}, ::Pair{Symbol, Int64}; system::MoireIVC.LL_HF.SystemParameters)\nThe type `MoireIVC.LL_HF.NumericalParameters` exists, but no method is defined for this combination of argument types when trying to construct it.\n\nClosest candidates are:\n  MoireIVC.LL_HF.NumericalParameters(::Any, ::Any, !Matched::Any, !Matched::Any, !Matched::Any, !Matched::Any, !Matched::Any, !Matched::Any, !Matched::Any, !Matched::Any, !Matched::Any, !Matched::Any, !Matched::Any) got unsupported keyword argument \"system\"\n   @ MoireIVC c:\\Users\\admin-bz4447\\Documents\\julia\\MoireIVC\\src\\dependency\\LL HF.jl:182\n  MoireIVC.LL_HF.NumericalParameters(!Matched::MoireIVC.LL_HF.SystemParameters, !Matched::Int64, !Matched::Int64, !Matched::Int64, !Matched::Int64, !Matched::Array{ComplexF64, 4}, !Matched::Array{ComplexF64, 6}, !Matched::Array{ComplexF64, 6}, !Matched::Array{ComplexF64, 6}, !Matched::Array{ComplexF64, 6}, !Matched::Float64, !Matched::Float64, !Matched::Array{ComplexF64, 4}) got unsupported keyword argument \"system\"\n   @ MoireIVC c:\\Users\\admin-bz4447\\Documents\\julia\\MoireIVC\\src\\dependency\\LL HF.jl:182\n  MoireIVC.LL_HF.NumericalParameters(; system, LL, N1, N2, k_num, H0, BareHartree, BareFock, Hartree, Fock, α, λ, DMseed)\n   @ MoireIVC c:\\Users\\admin-bz4447\\Documents\\julia\\MoireIVC\\src\\dependency\\LL HF.jl:180\n",
     "output_type": "error",
     "traceback": [
      "MethodError: no method matching MoireIVC.LL_HF.NumericalParameters(::Pair{Symbol, Int64}, ::Pair{Symbol, Int64}; system::MoireIVC.LL_HF.SystemParameters)\n",
      "The type `MoireIVC.LL_HF.NumericalParameters` exists, but no method is defined for this combination of argument types when trying to construct it.\n",
      "\n",
      "Closest candidates are:\n",
      "  MoireIVC.LL_HF.NumericalParameters(::Any, ::Any, !Matched::Any, !Matched::Any, !Matched::Any, !Matched::Any, !Matched::Any, !Matched::Any, !Matched::Any, !Matched::Any, !Matched::Any, !Matched::Any, !Matched::Any) got unsupported keyword argument \"system\"\n",
      "   @ MoireIVC c:\\Users\\admin-bz4447\\Documents\\julia\\MoireIVC\\src\\dependency\\LL HF.jl:182\n",
      "  MoireIVC.LL_HF.NumericalParameters(!Matched::MoireIVC.LL_HF.SystemParameters, !Matched::Int64, !Matched::Int64, !Matched::Int64, !Matched::Int64, !Matched::Array{ComplexF64, 4}, !Matched::Array{ComplexF64, 6}, !Matched::Array{ComplexF64, 6}, !Matched::Array{ComplexF64, 6}, !Matched::Array{ComplexF64, 6}, !Matched::Float64, !Matched::Float64, !Matched::Array{ComplexF64, 4}) got unsupported keyword argument \"system\"\n",
      "   @ MoireIVC c:\\Users\\admin-bz4447\\Documents\\julia\\MoireIVC\\src\\dependency\\LL HF.jl:182\n",
      "  MoireIVC.LL_HF.NumericalParameters(; system, LL, N1, N2, k_num, H0, BareHartree, BareFock, Hartree, Fock, α, λ, DMseed)\n",
      "   @ MoireIVC c:\\Users\\admin-bz4447\\Documents\\julia\\MoireIVC\\src\\dependency\\LL HF.jl:180\n",
      "\n",
      "\n",
      "Stacktrace:\n",
      " [1] LLHF_init_with_alpha(alpha::Float64, sys_para::MoireIVC.LL_HF.SystemParameters; others::@Kwargs{N1::Int64, N2::Int64})\n",
      "   @ MoireIVC.LL_HF c:\\Users\\admin-bz4447\\Documents\\julia\\MoireIVC\\src\\dependency\\LL HF.jl:216\n",
      " [2] top-level scope\n",
      "   @ c:\\Users\\admin-bz4447\\Documents\\julia\\MoireIVC\\jl_notebook_cell_df34fa98e69747e1a8f8a730347b8e2f_W1sZmlsZQ==.jl:1"
     ]
    }
   ],
   "source": [
    "num_para1 = LLHF_init_with_alpha(0.5; N1 = 18, N2 = 18);\n",
    "ρ1 = LLHF_solve(num_para1)"
   ]
  },
  {
   "cell_type": "code",
   "execution_count": null,
   "id": "eecab32f",
   "metadata": {},
   "outputs": [],
   "source": [
    "num_para2 = LLHF_init_with_alpha(0.5; N1 = 18, N2 = 18);\n",
    "ρ2 = LLHF_solve(num_para2)"
   ]
  }
 ],
 "metadata": {
  "kernelspec": {
   "display_name": "Julia 1.11.5",
   "language": "julia",
   "name": "julia-1.11"
  },
  "language_info": {
   "file_extension": ".jl",
   "mimetype": "application/julia",
   "name": "julia",
   "version": "1.11.5"
  }
 },
 "nbformat": 4,
 "nbformat_minor": 5
}
