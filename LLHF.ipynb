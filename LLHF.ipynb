{
 "cells": [
  {
   "cell_type": "code",
   "execution_count": 4,
   "id": "a3334f68",
   "metadata": {},
   "outputs": [],
   "source": [
    "using MKL\n",
    "using PhysicalUnits, LinearAlgebra\n",
    "using CairoMakie\n",
    "using MoireIVC.LL_HF\n",
    "using MoireIVC.LL_HF: polar_azimuthal_angles, berry_curvature, realspace_pauli, wavefunction"
   ]
  },
  {
   "cell_type": "code",
   "execution_count": 6,
   "id": "7a937e6b",
   "metadata": {},
   "outputs": [
    {
     "name": "stdout",
     "output_type": "stream",
     "text": [
      "converged in 1 iterations\n",
      "ρ = LLHF_solve(num_para) = ComplexF64[0.49999999999999994 + 0.0im;;; 0.49999999999999994 + 0.0im;;;; 0.49999999999999994 + 0.0im;;; 0.49999999999999994 + 0.0im]\n",
      "polar_azimuthal_angles(ρ, num_para) = ([1.5707963267948968;;], [0.0;;])\n",
      "berry_curvature(ρ, num_para) = [0.0;;]\n",
      "realspace_pauli(0.2, 3.2, ρ, num_para) = (-1.0071951202434006, -0.12537956507147885, 0.0, 1.014968987496481)\n",
      "wavefunction(-0.4, 1.3, 0.2, 0.4, 0; sys_para = num_para.system) = -0.12068517939908473 - 0.043996981606620016im\n"
     ]
    },
    {
     "data": {
      "text/plain": [
       "-0.12068517939908473 - 0.043996981606620016im"
      ]
     },
     "metadata": {},
     "output_type": "display_data"
    }
   ],
   "source": [
    "num_para = LLHF_init_with_alpha(0.5);\n",
    "@show ρ = LLHF_solve(num_para)\n",
    "@show polar_azimuthal_angles(ρ, num_para)\n",
    "@show berry_curvature(ρ, num_para)\n",
    "@show realspace_pauli(0.2, 3.2, ρ, num_para)\n",
    "@show wavefunction(-0.4, 1.3, 0.2, 0.4, 0; sys_para = num_para.system)"
   ]
  },
  {
   "cell_type": "code",
   "execution_count": null,
   "id": "eecab32f",
   "metadata": {},
   "outputs": [],
   "source": []
  }
 ],
 "metadata": {
  "kernelspec": {
   "display_name": "Julia 1.11.5",
   "language": "julia",
   "name": "julia-1.11"
  },
  "language_info": {
   "file_extension": ".jl",
   "mimetype": "application/julia",
   "name": "julia",
   "version": "1.11.5"
  }
 },
 "nbformat": 4,
 "nbformat_minor": 5
}
